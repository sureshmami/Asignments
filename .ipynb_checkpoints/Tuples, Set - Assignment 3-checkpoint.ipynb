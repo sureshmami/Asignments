{
 "cells": [
  {
   "cell_type": "markdown",
   "metadata": {},
   "source": [
    "#### 1.Write a Python Program to implement your own myreduce() function which works exactly like Python's built-in function reduce()"
   ]
  },
  {
   "cell_type": "code",
   "execution_count": 5,
   "metadata": {},
   "outputs": [
    {
     "name": "stdout",
     "output_type": "stream",
     "text": [
      "output with reduce function  120\n",
      "output with myreduce function: 120\n"
     ]
    }
   ],
   "source": [
    "## With Reduce function\n",
    "from functools import reduce\n",
    "i = [1,2,3,4,5]\n",
    "def my_func(a,b):\n",
    "    return a*b\n",
    "print(\"output with reduce function \",reduce(my_func,i) )\n",
    "\n",
    "\"-------------------------------------------------------\"\n",
    "\n",
    "## with created my_reduce function\n",
    "i = [1,2,3,4,5]\n",
    "def multiply(a,b):\n",
    "    return a*b\n",
    "def my_reduce(func,seq):\n",
    "    j = seq[0]\n",
    "    for m in seq[1:]:\n",
    "        j = func(j,m)\n",
    "    return j\n",
    "print(\"output with myreduce function:\", my_reduce(multiply,i))"
   ]
  },
  {
   "cell_type": "markdown",
   "metadata": {},
   "source": [
    "#### 1.2 Write a Python program to implement your own myfilter() function which works exactly like Python's built-in function filter()"
   ]
  },
  {
   "cell_type": "code",
   "execution_count": 1,
   "metadata": {},
   "outputs": [
    {
     "name": "stdout",
     "output_type": "stream",
     "text": [
      "[10, 20]\n",
      "[5, 15, 25]\n",
      "[10, 20, 30]\n",
      "[5, 15, 25]\n"
     ]
    }
   ],
   "source": [
    "#with builtin filter function\n",
    "print(list(filter(lambda x:x%2 ==0,list(filter(lambda x: x%5 == 0, range(1,30))))))\n",
    "print(list(filter(lambda x: x%2 != 0, list(filter(lambda x: x%5 == 0, range(1,30))))))\n",
    "\n",
    "\"------------------------------------------------------------\"\n",
    "\n",
    "#With created myfilter function\n",
    "\n",
    "def myfilter(num):\n",
    "    even_num = []\n",
    "    odd_num = []\n",
    "    for i in range(1,num+1):\n",
    "        if (i%5 == 0):\n",
    "            if (i%2 == 0):\n",
    "                even_num.append(i)\n",
    "            else:\n",
    "                odd_num.append(i)\n",
    "    return even_num, odd_num\n",
    "output = myfilter(30)\n",
    "print(output[0])\n",
    "print(output[1])"
   ]
  },
  {
   "cell_type": "markdown",
   "metadata": {},
   "source": [
    "#### 2. Implement List comprehensions to produce the following lists.Write List comprehensions to produce the following Lists"
   ]
  },
  {
   "cell_type": "code",
   "execution_count": 2,
   "metadata": {},
   "outputs": [
    {
     "name": "stdout",
     "output_type": "stream",
     "text": [
      "['x', 'xx', 'xxx', 'xxxx', 'y', 'yy', 'yyy', 'yyyy', 'z', 'zz', 'zzz', 'zzzz']\n"
     ]
    }
   ],
   "source": [
    "#Section:1\n",
    "l=['x','y','z']\n",
    "m=[i*n for i in l for n in range(1,5)]\n",
    "print(m)\n"
   ]
  },
  {
   "cell_type": "code",
   "execution_count": 3,
   "metadata": {},
   "outputs": [
    {
     "name": "stdout",
     "output_type": "stream",
     "text": [
      "['x', 'y', 'z', 'xx', 'yy', 'zz', 'xxx', 'yyy', 'zzz', 'xxxx', 'yyyy', 'zzzz']\n"
     ]
    }
   ],
   "source": [
    "#Section:2\n",
    "l=['x','y','z']\n",
    "m=[n*i for i in range(1,5) for n in l]\n",
    "print(m)"
   ]
  },
  {
   "cell_type": "code",
   "execution_count": 4,
   "metadata": {},
   "outputs": [
    {
     "name": "stdout",
     "output_type": "stream",
     "text": [
      "[[2], [3], [4], [3], [4], [5], [4], [5], [6]]\n"
     ]
    }
   ],
   "source": [
    "#Section:3\n",
    "l = [2,3,4]\n",
    "print([[i+j] for i in l for j in range(len(l))])"
   ]
  },
  {
   "cell_type": "code",
   "execution_count": 5,
   "metadata": {},
   "outputs": [
    {
     "name": "stdout",
     "output_type": "stream",
     "text": [
      "[[2, 3, 4, 5], [3, 4, 5, 6], [4, 5, 6, 7], [5, 6, 7, 8]]\n"
     ]
    }
   ],
   "source": [
    "#Section:4\n",
    "l = [2,3,4,5]\n",
    "print([[i+j for i in l] for j in range(len(l))])\n"
   ]
  },
  {
   "cell_type": "code",
   "execution_count": 9,
   "metadata": {},
   "outputs": [
    {
     "name": "stdout",
     "output_type": "stream",
     "text": [
      "[[(1, 1), (2, 1), (3, 1)], [(1, 2), (2, 2), (3, 2)], [(1, 3), (2, 3), (3, 3)]]\n"
     ]
    }
   ],
   "source": [
    "#Section:%\n",
    "l = [1,2,3]\n",
    "print([[(i,j) for i in l] for j in range(1,(len(l)+1))])"
   ]
  },
  {
   "cell_type": "code",
   "execution_count": null,
   "metadata": {},
   "outputs": [],
   "source": []
  }
 ],
 "metadata": {
  "kernelspec": {
   "display_name": "Python 3",
   "language": "python",
   "name": "python3"
  },
  "language_info": {
   "codemirror_mode": {
    "name": "ipython",
    "version": 3
   },
   "file_extension": ".py",
   "mimetype": "text/x-python",
   "name": "python",
   "nbconvert_exporter": "python",
   "pygments_lexer": "ipython3",
   "version": "3.7.4"
  }
 },
 "nbformat": 4,
 "nbformat_minor": 2
}
